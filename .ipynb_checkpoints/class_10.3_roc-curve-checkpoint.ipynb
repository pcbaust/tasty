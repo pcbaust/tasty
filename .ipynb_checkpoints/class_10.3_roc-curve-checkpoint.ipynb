{
 "cells": [
  {
   "cell_type": "markdown",
   "metadata": {},
   "source": [
    "# AUC of ROC : Diabetes Dataset"
   ]
  },
  {
   "cell_type": "code",
   "execution_count": 1,
   "metadata": {
    "execution": {
     "iopub.execute_input": "2022-05-08T06:13:17.447699Z",
     "iopub.status.busy": "2022-05-08T06:13:17.447195Z",
     "iopub.status.idle": "2022-05-08T06:13:17.452565Z",
     "shell.execute_reply": "2022-05-08T06:13:17.451551Z",
     "shell.execute_reply.started": "2022-05-08T06:13:17.447648Z"
    }
   },
   "outputs": [],
   "source": [
    "import numpy as np \n",
    "import pandas as pd\n",
    "import matplotlib.pyplot as plt"
   ]
  },
  {
   "cell_type": "code",
   "execution_count": 2,
   "metadata": {
    "execution": {
     "iopub.execute_input": "2022-05-08T06:13:17.457716Z",
     "iopub.status.busy": "2022-05-08T06:13:17.457505Z",
     "iopub.status.idle": "2022-05-08T06:13:17.469539Z",
     "shell.execute_reply": "2022-05-08T06:13:17.468718Z",
     "shell.execute_reply.started": "2022-05-08T06:13:17.457688Z"
    }
   },
   "outputs": [],
   "source": [
    "data=pd.read_csv(\"diabetes.csv\")"
   ]
  },
  {
   "cell_type": "code",
   "execution_count": 3,
   "metadata": {
    "execution": {
     "iopub.execute_input": "2022-05-08T06:13:17.47174Z",
     "iopub.status.busy": "2022-05-08T06:13:17.471231Z",
     "iopub.status.idle": "2022-05-08T06:13:17.489236Z",
     "shell.execute_reply": "2022-05-08T06:13:17.488632Z",
     "shell.execute_reply.started": "2022-05-08T06:13:17.471706Z"
    }
   },
   "outputs": [
    {
     "data": {
      "text/html": [
       "<div>\n",
       "<style scoped>\n",
       "    .dataframe tbody tr th:only-of-type {\n",
       "        vertical-align: middle;\n",
       "    }\n",
       "\n",
       "    .dataframe tbody tr th {\n",
       "        vertical-align: top;\n",
       "    }\n",
       "\n",
       "    .dataframe thead th {\n",
       "        text-align: right;\n",
       "    }\n",
       "</style>\n",
       "<table border=\"1\" class=\"dataframe\">\n",
       "  <thead>\n",
       "    <tr style=\"text-align: right;\">\n",
       "      <th></th>\n",
       "      <th>Pregnancies</th>\n",
       "      <th>Glucose</th>\n",
       "      <th>BloodPressure</th>\n",
       "      <th>SkinThickness</th>\n",
       "      <th>Insulin</th>\n",
       "      <th>BMI</th>\n",
       "      <th>DiabetesPedigreeFunction</th>\n",
       "      <th>Age</th>\n",
       "      <th>Outcome</th>\n",
       "    </tr>\n",
       "  </thead>\n",
       "  <tbody>\n",
       "    <tr>\n",
       "      <th>0</th>\n",
       "      <td>6</td>\n",
       "      <td>148</td>\n",
       "      <td>72</td>\n",
       "      <td>35</td>\n",
       "      <td>0</td>\n",
       "      <td>33.6</td>\n",
       "      <td>0.627</td>\n",
       "      <td>50</td>\n",
       "      <td>1</td>\n",
       "    </tr>\n",
       "    <tr>\n",
       "      <th>1</th>\n",
       "      <td>1</td>\n",
       "      <td>85</td>\n",
       "      <td>66</td>\n",
       "      <td>29</td>\n",
       "      <td>0</td>\n",
       "      <td>26.6</td>\n",
       "      <td>0.351</td>\n",
       "      <td>31</td>\n",
       "      <td>0</td>\n",
       "    </tr>\n",
       "    <tr>\n",
       "      <th>2</th>\n",
       "      <td>8</td>\n",
       "      <td>183</td>\n",
       "      <td>64</td>\n",
       "      <td>0</td>\n",
       "      <td>0</td>\n",
       "      <td>23.3</td>\n",
       "      <td>0.672</td>\n",
       "      <td>32</td>\n",
       "      <td>1</td>\n",
       "    </tr>\n",
       "    <tr>\n",
       "      <th>3</th>\n",
       "      <td>1</td>\n",
       "      <td>89</td>\n",
       "      <td>66</td>\n",
       "      <td>23</td>\n",
       "      <td>94</td>\n",
       "      <td>28.1</td>\n",
       "      <td>0.167</td>\n",
       "      <td>21</td>\n",
       "      <td>0</td>\n",
       "    </tr>\n",
       "    <tr>\n",
       "      <th>4</th>\n",
       "      <td>0</td>\n",
       "      <td>137</td>\n",
       "      <td>40</td>\n",
       "      <td>35</td>\n",
       "      <td>168</td>\n",
       "      <td>43.1</td>\n",
       "      <td>2.288</td>\n",
       "      <td>33</td>\n",
       "      <td>1</td>\n",
       "    </tr>\n",
       "    <tr>\n",
       "      <th>5</th>\n",
       "      <td>5</td>\n",
       "      <td>116</td>\n",
       "      <td>74</td>\n",
       "      <td>0</td>\n",
       "      <td>0</td>\n",
       "      <td>25.6</td>\n",
       "      <td>0.201</td>\n",
       "      <td>30</td>\n",
       "      <td>0</td>\n",
       "    </tr>\n",
       "    <tr>\n",
       "      <th>6</th>\n",
       "      <td>3</td>\n",
       "      <td>78</td>\n",
       "      <td>50</td>\n",
       "      <td>32</td>\n",
       "      <td>88</td>\n",
       "      <td>31.0</td>\n",
       "      <td>0.248</td>\n",
       "      <td>26</td>\n",
       "      <td>1</td>\n",
       "    </tr>\n",
       "    <tr>\n",
       "      <th>7</th>\n",
       "      <td>10</td>\n",
       "      <td>115</td>\n",
       "      <td>0</td>\n",
       "      <td>0</td>\n",
       "      <td>0</td>\n",
       "      <td>35.3</td>\n",
       "      <td>0.134</td>\n",
       "      <td>29</td>\n",
       "      <td>0</td>\n",
       "    </tr>\n",
       "    <tr>\n",
       "      <th>8</th>\n",
       "      <td>2</td>\n",
       "      <td>197</td>\n",
       "      <td>70</td>\n",
       "      <td>45</td>\n",
       "      <td>543</td>\n",
       "      <td>30.5</td>\n",
       "      <td>0.158</td>\n",
       "      <td>53</td>\n",
       "      <td>1</td>\n",
       "    </tr>\n",
       "    <tr>\n",
       "      <th>9</th>\n",
       "      <td>8</td>\n",
       "      <td>125</td>\n",
       "      <td>96</td>\n",
       "      <td>0</td>\n",
       "      <td>0</td>\n",
       "      <td>0.0</td>\n",
       "      <td>0.232</td>\n",
       "      <td>54</td>\n",
       "      <td>1</td>\n",
       "    </tr>\n",
       "  </tbody>\n",
       "</table>\n",
       "</div>"
      ],
      "text/plain": [
       "   Pregnancies  Glucose  BloodPressure  SkinThickness  Insulin   BMI  \\\n",
       "0            6      148             72             35        0  33.6   \n",
       "1            1       85             66             29        0  26.6   \n",
       "2            8      183             64              0        0  23.3   \n",
       "3            1       89             66             23       94  28.1   \n",
       "4            0      137             40             35      168  43.1   \n",
       "5            5      116             74              0        0  25.6   \n",
       "6            3       78             50             32       88  31.0   \n",
       "7           10      115              0              0        0  35.3   \n",
       "8            2      197             70             45      543  30.5   \n",
       "9            8      125             96              0        0   0.0   \n",
       "\n",
       "   DiabetesPedigreeFunction  Age  Outcome  \n",
       "0                     0.627   50        1  \n",
       "1                     0.351   31        0  \n",
       "2                     0.672   32        1  \n",
       "3                     0.167   21        0  \n",
       "4                     2.288   33        1  \n",
       "5                     0.201   30        0  \n",
       "6                     0.248   26        1  \n",
       "7                     0.134   29        0  \n",
       "8                     0.158   53        1  \n",
       "9                     0.232   54        1  "
      ]
     },
     "execution_count": 3,
     "metadata": {},
     "output_type": "execute_result"
    }
   ],
   "source": [
    "data.head(10)"
   ]
  },
  {
   "cell_type": "code",
   "execution_count": 4,
   "metadata": {
    "execution": {
     "iopub.execute_input": "2022-05-08T06:13:17.490858Z",
     "iopub.status.busy": "2022-05-08T06:13:17.490538Z",
     "iopub.status.idle": "2022-05-08T06:13:17.49587Z",
     "shell.execute_reply": "2022-05-08T06:13:17.495023Z",
     "shell.execute_reply.started": "2022-05-08T06:13:17.490827Z"
    }
   },
   "outputs": [],
   "source": [
    "X = data.iloc[:,0:-1].values\n",
    "y = data.iloc[:,-1].values"
   ]
  },
  {
   "cell_type": "code",
   "execution_count": 5,
   "metadata": {
    "execution": {
     "iopub.execute_input": "2022-05-08T06:13:17.497979Z",
     "iopub.status.busy": "2022-05-08T06:13:17.49724Z",
     "iopub.status.idle": "2022-05-08T06:13:17.512408Z",
     "shell.execute_reply": "2022-05-08T06:13:17.510338Z",
     "shell.execute_reply.started": "2022-05-08T06:13:17.497945Z"
    }
   },
   "outputs": [
    {
     "name": "stdout",
     "output_type": "stream",
     "text": [
      "[[  6.    148.     72.    ...  33.6     0.627  50.   ]\n",
      " [  1.     85.     66.    ...  26.6     0.351  31.   ]\n",
      " [  8.    183.     64.    ...  23.3     0.672  32.   ]\n",
      " ...\n",
      " [  5.    121.     72.    ...  26.2     0.245  30.   ]\n",
      " [  1.    126.     60.    ...  30.1     0.349  47.   ]\n",
      " [  1.     93.     70.    ...  30.4     0.315  23.   ]]\n"
     ]
    }
   ],
   "source": [
    "print(X)"
   ]
  },
  {
   "cell_type": "code",
   "execution_count": 6,
   "metadata": {
    "execution": {
     "iopub.execute_input": "2022-05-08T06:13:17.514619Z",
     "iopub.status.busy": "2022-05-08T06:13:17.514379Z",
     "iopub.status.idle": "2022-05-08T06:13:17.524854Z",
     "shell.execute_reply": "2022-05-08T06:13:17.524281Z",
     "shell.execute_reply.started": "2022-05-08T06:13:17.514591Z"
    }
   },
   "outputs": [
    {
     "name": "stdout",
     "output_type": "stream",
     "text": [
      "[1 0 1 0 1 0 1 0 1 1 0 1 0 1 1 1 1 1 0 1 0 0 1 1 1 1 1 0 0 0 0 1 0 0 0 0 0\n",
      " 1 1 1 0 0 0 1 0 1 0 0 1 0 0 0 0 1 0 0 1 0 0 0 0 1 0 0 1 0 1 0 0 0 1 0 1 0\n",
      " 0 0 0 0 1 0 0 0 0 0 1 0 0 0 1 0 0 0 0 1 0 0 0 0 0 1 1 0 0 0 0 0 0 0 0 1 1\n",
      " 1 0 0 1 1 1 0 0 0 1 0 0 0 1 1 0 0 1 1 1 1 1 0 0 0 0 0 0 0 0 0 0 1 0 0 0 0\n",
      " 0 0 0 0 1 0 1 1 0 0 0 1 0 0 0 0 1 1 0 0 0 0 1 1 0 0 0 1 0 1 0 1 0 0 0 0 0\n",
      " 1 1 1 1 1 0 0 1 1 0 1 0 1 1 1 0 0 0 0 0 0 1 1 0 1 0 0 0 1 1 1 1 0 1 1 1 1\n",
      " 0 0 0 0 0 1 0 0 1 1 0 0 0 1 1 1 1 0 0 0 1 1 0 1 0 0 0 0 0 0 0 0 1 1 0 0 0\n",
      " 1 0 1 0 0 1 0 1 0 0 1 1 0 0 0 0 0 1 0 0 0 1 0 0 1 1 0 0 1 0 0 0 1 1 1 0 0\n",
      " 1 0 1 0 1 1 0 1 0 0 1 0 1 1 0 0 1 0 1 0 0 1 0 1 0 1 1 1 0 0 1 0 1 0 0 0 1\n",
      " 0 0 0 0 1 1 1 0 0 0 0 0 0 0 0 0 1 0 0 0 0 0 1 1 1 0 1 1 0 0 1 0 0 1 0 0 1\n",
      " 1 0 0 0 0 1 0 0 1 0 0 0 0 0 0 0 1 1 1 0 0 1 0 0 1 0 0 1 0 1 1 0 1 0 1 0 1\n",
      " 0 1 1 0 0 0 0 1 1 0 1 0 1 0 0 0 0 1 1 0 1 0 1 0 0 0 0 0 1 0 0 0 0 1 0 0 1\n",
      " 1 1 0 0 1 0 0 1 0 0 0 1 0 0 1 0 0 0 0 0 0 0 0 0 1 0 0 0 0 0 0 0 1 0 0 0 1\n",
      " 0 0 0 1 1 0 0 0 0 0 0 0 1 0 0 0 0 1 0 0 0 1 0 0 0 1 0 0 0 1 0 0 0 0 1 1 0\n",
      " 0 0 0 0 0 1 0 0 0 0 0 0 0 0 0 0 0 1 0 0 0 1 1 1 1 0 0 1 1 0 0 0 0 0 0 0 0\n",
      " 0 0 0 0 0 1 1 0 0 0 0 0 0 0 1 0 0 0 0 0 0 0 1 0 1 1 0 0 0 1 0 1 0 1 0 1 0\n",
      " 1 0 0 1 0 0 1 0 0 0 0 1 1 0 1 0 0 0 0 1 1 0 1 0 0 0 1 1 0 0 0 0 0 0 0 0 0\n",
      " 0 1 0 0 0 0 1 0 0 1 0 0 0 1 0 0 0 1 1 1 0 0 0 0 0 0 1 0 0 0 1 0 1 1 1 1 0\n",
      " 1 1 0 0 0 0 0 0 0 1 1 0 1 0 0 1 0 1 0 0 0 0 0 1 0 1 0 1 0 1 1 0 0 0 0 1 1\n",
      " 0 0 0 1 0 1 1 0 0 1 0 0 1 1 0 0 1 0 0 1 0 0 0 0 0 0 0 1 1 1 0 0 0 0 0 0 1\n",
      " 1 0 0 1 0 0 1 0 1 1 1 0 0 1 1 1 0 1 0 1 0 1 0 0 0 0 1 0]\n"
     ]
    }
   ],
   "source": [
    "print(y)"
   ]
  },
  {
   "cell_type": "code",
   "execution_count": 7,
   "metadata": {
    "execution": {
     "iopub.execute_input": "2022-05-08T06:13:17.526662Z",
     "iopub.status.busy": "2022-05-08T06:13:17.526122Z",
     "iopub.status.idle": "2022-05-08T06:13:17.534681Z",
     "shell.execute_reply": "2022-05-08T06:13:17.533996Z",
     "shell.execute_reply.started": "2022-05-08T06:13:17.52663Z"
    }
   },
   "outputs": [],
   "source": [
    "from sklearn.model_selection import train_test_split\n",
    "X_train, X_test, y_train, y_test = train_test_split(X, y, test_size = 0.20, random_state = 4)"
   ]
  },
  {
   "cell_type": "code",
   "execution_count": 8,
   "metadata": {
    "execution": {
     "iopub.execute_input": "2022-05-08T06:13:17.536561Z",
     "iopub.status.busy": "2022-05-08T06:13:17.536169Z",
     "iopub.status.idle": "2022-05-08T06:13:17.546129Z",
     "shell.execute_reply": "2022-05-08T06:13:17.545358Z",
     "shell.execute_reply.started": "2022-05-08T06:13:17.53653Z"
    }
   },
   "outputs": [
    {
     "name": "stdout",
     "output_type": "stream",
     "text": [
      "[[  0.     67.     76.    ...  45.3     0.194  46.   ]\n",
      " [  1.     80.     55.    ...  19.1     0.258  21.   ]\n",
      " [  2.    105.     75.    ...  23.3     0.56   53.   ]\n",
      " ...\n",
      " [  6.    107.     88.    ...  36.8     0.727  31.   ]\n",
      " [  2.     75.     64.    ...  29.7     0.37   33.   ]\n",
      " [  2.    107.     74.    ...  33.6     0.404  23.   ]]\n"
     ]
    }
   ],
   "source": [
    "print(X_train )"
   ]
  },
  {
   "cell_type": "code",
   "execution_count": 9,
   "metadata": {
    "execution": {
     "iopub.execute_input": "2022-05-08T06:13:17.54764Z",
     "iopub.status.busy": "2022-05-08T06:13:17.547272Z",
     "iopub.status.idle": "2022-05-08T06:13:17.558332Z",
     "shell.execute_reply": "2022-05-08T06:13:17.557368Z",
     "shell.execute_reply.started": "2022-05-08T06:13:17.547612Z"
    }
   },
   "outputs": [
    {
     "name": "stdout",
     "output_type": "stream",
     "text": [
      "[[1.00e+00 1.00e+02 6.60e+01 ... 3.20e+01 4.44e-01 4.20e+01]\n",
      " [9.00e+00 5.70e+01 8.00e+01 ... 3.28e+01 9.60e-02 4.10e+01]\n",
      " [0.00e+00 1.00e+02 7.00e+01 ... 3.08e+01 5.97e-01 2.10e+01]\n",
      " ...\n",
      " [7.00e+00 1.33e+02 8.80e+01 ... 3.24e+01 2.62e-01 3.70e+01]\n",
      " [8.00e+00 1.54e+02 7.80e+01 ... 3.24e+01 4.43e-01 4.50e+01]\n",
      " [4.00e+00 1.46e+02 7.80e+01 ... 3.85e+01 5.20e-01 6.70e+01]]\n"
     ]
    }
   ],
   "source": [
    "print(X_test)"
   ]
  },
  {
   "cell_type": "code",
   "execution_count": 10,
   "metadata": {
    "execution": {
     "iopub.execute_input": "2022-05-08T06:13:17.559823Z",
     "iopub.status.busy": "2022-05-08T06:13:17.559615Z",
     "iopub.status.idle": "2022-05-08T06:13:17.570358Z",
     "shell.execute_reply": "2022-05-08T06:13:17.569711Z",
     "shell.execute_reply.started": "2022-05-08T06:13:17.559798Z"
    }
   },
   "outputs": [
    {
     "name": "stdout",
     "output_type": "stream",
     "text": [
      "[0 0 0 0 0 1 1 1 0 0 1 0 1 0 1 0 1 1 0 0 0 1 0 1 0 0 0 0 0 1 1 0 1 0 0 1 0\n",
      " 0 1 0 1 1 0 0 0 0 0 0 0 0 0 0 1 0 1 1 0 0 1 0 0 0 1 0 0 1 0 0 0 0 0 1 1 1\n",
      " 1 0 0 0 1 0 1 1 1 0 0 0 0 0 0 0 0 0 0 0 0 0 0 0 0 0 1 0 0 1 0 1 0 1 1 0 1\n",
      " 1 0 1 0 0 0 0 0 1 0 0 1 0 1 1 0 0 0 0 0 0 1 0 0 0 1 0 0 0 1 1 0 1 0 0 0 0\n",
      " 0 0 1 1 0 0 0 0 0 1 0 0 0 0 0 0 1 0 0 0 0 1 0 0 1 0 1 1 0 0 1 1 0 0 0 1 0\n",
      " 0 1 0 0 1 0 0 0 0 0 0 1 1 0 0 0 1 1 0 1 0 0 1 1 0 0 0 1 0 1 0 1 1 0 1 0 1\n",
      " 1 1 0 0 0 0 0 0 0 0 0 0 1 1 0 1 1 1 1 1 1 0 1 0 0 0 0 0 0 0 1 0 0 1 0 1 1\n",
      " 1 0 1 1 0 0 1 0 0 0 0 1 1 0 0 1 1 0 0 0 0 0 0 1 1 0 0 0 1 1 0 0 1 0 1 0 0\n",
      " 0 0 0 0 0 0 0 0 1 1 1 0 1 0 1 0 0 1 0 0 0 0 0 0 1 0 0 0 1 0 1 1 1 0 0 0 0\n",
      " 0 0 0 0 0 1 0 0 0 0 1 0 1 0 0 0 0 1 0 0 0 0 0 1 1 0 1 1 1 0 1 1 0 0 1 0 1\n",
      " 0 0 1 1 0 0 0 1 0 0 0 1 0 0 0 1 0 0 0 1 0 0 1 0 0 1 1 0 1 0 0 1 0 1 0 0 1\n",
      " 0 0 0 0 1 0 0 1 0 0 1 1 1 1 0 0 1 1 0 1 1 0 0 0 0 1 1 0 1 1 0 0 0 1 0 0 0\n",
      " 1 0 0 0 1 1 0 1 0 0 1 1 1 1 1 0 0 1 0 0 0 0 0 0 0 0 0 0 0 0 1 1 0 1 0 0 0\n",
      " 0 0 0 1 1 1 1 0 0 1 0 1 0 0 0 1 0 0 0 0 1 1 0 0 0 0 1 0 1 1 0 1 0 0 1 1 0\n",
      " 0 1 1 1 0 1 0 0 0 1 0 0 0 0 0 1 1 0 1 0 0 0 0 0 1 0 0 0 0 1 0 0 0 1 0 0 0\n",
      " 1 0 0 0 1 0 0 0 0 1 0 0 1 0 1 1 0 1 1 0 0 1 0 0 0 1 1 1 0 0 1 1 1 0 0 0 0\n",
      " 0 0 0 1 1 0 0 0 0 1 0 1 1 0 0 0 0 1 1 0 0 0]\n",
      "[0 0 0 0 1 1 1 1 1 0 0 0 1 0 0 1 1 1 0 0 0 0 0 1 1 0 0 1 1 1 1 0 0 0 0 0 0\n",
      " 0 0 1 1 0 0 1 0 0 0 1 0 0 1 0 0 0 1 0 0 0 0 1 0 0 1 0 0 0 0 0 0 1 0 1 0 0\n",
      " 0 1 0 1 0 0 1 0 0 1 0 0 0 1 0 1 0 0 0 0 0 0 0 1 1 0 0 0 1 1 1 0 0 1 1 0 0\n",
      " 1 1 0 0 0 0 0 1 1 0 0 0 0 0 0 0 0 0 1 1 0 1 0 1 0 0 0 1 0 0 0 0 0 1 1 1 0\n",
      " 0 0 0 0 1 1]\n"
     ]
    }
   ],
   "source": [
    "print(y_train)\n",
    "print(y_test)"
   ]
  },
  {
   "cell_type": "code",
   "execution_count": 11,
   "metadata": {
    "execution": {
     "iopub.execute_input": "2022-05-08T06:13:17.572574Z",
     "iopub.status.busy": "2022-05-08T06:13:17.572211Z",
     "iopub.status.idle": "2022-05-08T06:13:17.583837Z",
     "shell.execute_reply": "2022-05-08T06:13:17.583027Z",
     "shell.execute_reply.started": "2022-05-08T06:13:17.572537Z"
    }
   },
   "outputs": [],
   "source": [
    "from sklearn.preprocessing import StandardScaler\n",
    "sc_X = StandardScaler()\n",
    "X_train = sc_X.fit_transform(X_train)\n",
    "X_test = sc_X.transform(X_test)"
   ]
  },
  {
   "cell_type": "code",
   "execution_count": 12,
   "metadata": {
    "execution": {
     "iopub.execute_input": "2022-05-08T06:13:17.585851Z",
     "iopub.status.busy": "2022-05-08T06:13:17.585099Z",
     "iopub.status.idle": "2022-05-08T06:13:17.595455Z",
     "shell.execute_reply": "2022-05-08T06:13:17.594705Z",
     "shell.execute_reply.started": "2022-05-08T06:13:17.585816Z"
    }
   },
   "outputs": [
    {
     "name": "stdout",
     "output_type": "stream",
     "text": [
      "[[-1.13297401 -1.70544954  0.3837674  ...  1.63727815 -0.83696713\n",
      "   1.09138367]\n",
      " [-0.83670227 -1.29149491 -0.6919493  ... -1.55372817 -0.6446041\n",
      "  -1.0400081 ]\n",
      " [-0.54043053 -0.4954283   0.33254279 ... -1.04219281  0.26310891\n",
      "   1.68817336]\n",
      " ...\n",
      " [ 0.64465642 -0.43174297  0.99846265 ...  0.60202801  0.76505617\n",
      "  -0.18745139]\n",
      " [-0.54043053 -1.45070823 -0.23092786 ... -0.26271035 -0.30796881\n",
      "  -0.01694005]\n",
      " [-0.54043053 -0.43174297  0.28131819 ...  0.21228678 -0.20577596\n",
      "  -0.86949676]]\n"
     ]
    }
   ],
   "source": [
    "print(X_train )"
   ]
  },
  {
   "cell_type": "code",
   "execution_count": 13,
   "metadata": {
    "execution": {
     "iopub.execute_input": "2022-05-08T06:13:17.597268Z",
     "iopub.status.busy": "2022-05-08T06:13:17.596555Z",
     "iopub.status.idle": "2022-05-08T06:13:17.624976Z",
     "shell.execute_reply": "2022-05-08T06:13:17.623935Z",
     "shell.execute_reply.started": "2022-05-08T06:13:17.597221Z"
    }
   },
   "outputs": [],
   "source": [
    "from sklearn.svm import SVC\n",
    "model_SVC = SVC(kernel = 'rbf', random_state = 4)\n",
    "model_SVC.fit(X_train, y_train)\n",
    "\n",
    "y_pred_svm = model_SVC.decision_function(X_test)"
   ]
  },
  {
   "cell_type": "code",
   "execution_count": 14,
   "metadata": {
    "execution": {
     "iopub.execute_input": "2022-05-08T06:13:17.626606Z",
     "iopub.status.busy": "2022-05-08T06:13:17.626252Z",
     "iopub.status.idle": "2022-05-08T06:13:17.637023Z",
     "shell.execute_reply": "2022-05-08T06:13:17.636388Z",
     "shell.execute_reply.started": "2022-05-08T06:13:17.626573Z"
    }
   },
   "outputs": [],
   "source": [
    "from sklearn.linear_model import LogisticRegression\n",
    "model_logistic = LogisticRegression()\n",
    "model_logistic.fit(X_train, y_train)\n",
    "\n",
    "y_pred_logistic = model_logistic.decision_function(X_test)"
   ]
  },
  {
   "cell_type": "code",
   "execution_count": 15,
   "metadata": {
    "execution": {
     "iopub.execute_input": "2022-05-08T06:13:17.638378Z",
     "iopub.status.busy": "2022-05-08T06:13:17.638034Z",
     "iopub.status.idle": "2022-05-08T06:13:17.656069Z",
     "shell.execute_reply": "2022-05-08T06:13:17.655212Z",
     "shell.execute_reply.started": "2022-05-08T06:13:17.638343Z"
    }
   },
   "outputs": [
    {
     "name": "stdout",
     "output_type": "stream",
     "text": [
      "[0 0 0 0 1 1 1 1 1 0 0 0 1 0 0 1 1 1 0 0 0 0 0 1 1 0 0 1 1 1 1 0 0 0 0 0 0\n",
      " 0 0 1 1 0 0 1 0 0 0 1 0 0 1 0 0 0 1 0 0 0 0 1 0 0 1 0 0 0 0 0 0 1 0 1 0 0\n",
      " 0 1 0 1 0 0 1 0 0 1 0 0 0 1 0 1 0 0 0 0 0 0 0 1 1 0 0 0 1 1 1 0 0 1 1 0 0\n",
      " 1 1 0 0 0 0 0 1 1 0 0 0 0 0 0 0 0 0 1 1 0 1 0 1 0 0 0 1 0 0 0 0 0 1 1 1 0\n",
      " 0 0 0 0 1 1]\n",
      "[-0.59103749 -0.92003602 -1.60699859 -0.41548069 -1.23093209  0.47599428\n",
      " -0.09446646 -0.1912648   1.27314962 -0.91699402  0.14227935 -1.59951703\n",
      " -0.17011365 -1.60534753 -1.39573653  0.69577864  1.83245528  1.28395853\n",
      " -1.55603542 -1.27284923 -1.6773471   1.15023859  0.09437724  0.4017742\n",
      " -0.94093013 -0.50009081 -1.33562897  0.52751924 -0.43116368 -0.9238805\n",
      " -0.10679616 -1.9168445  -0.64991021 -1.60757213 -0.45151644 -0.28271826\n",
      "  0.65078714  1.20114479 -1.2398836   0.86284775  0.1424183  -0.48221241\n",
      " -0.97979685  0.94652418 -1.64809293 -1.00702548 -0.4793234   0.71783229\n",
      " -1.09507741 -1.87849201  1.36340069 -0.40481156 -1.710597    0.30930394\n",
      "  0.32657257 -1.36191868 -1.07979597 -1.19679649 -1.48237596 -0.15734195\n",
      "  0.13215046 -1.09844312  0.17293971 -1.50015969 -0.8805963  -0.72957285\n",
      " -1.46205907  0.43387514 -1.07578097  0.13981521 -1.53873496 -0.19841213\n",
      " -0.85929911 -1.77652785 -1.71454459  1.15960756 -0.55996532 -1.25407809\n",
      " -1.60400944  0.30724501  1.38077932  0.49485566 -1.10735891  1.32317645\n",
      "  0.59611765 -1.76902284 -1.82579048  0.96102931 -1.10198652 -1.37939055\n",
      "  0.13012717 -1.54055439 -0.4012177  -1.3569934  -1.31795597 -0.45536431\n",
      " -1.60356522 -0.52355303  0.20841138 -0.12291144 -1.37727923  0.30327222\n",
      " -1.52685305 -0.65927296  1.59327603 -0.83443714 -1.40490849  1.31146067\n",
      " -0.70773534 -0.27423251  0.31543842  1.50751112  1.29273954 -1.70468039\n",
      " -0.41844452 -1.56283998 -0.58826257 -0.04627843 -0.84796014  0.50216311\n",
      " -1.45333273 -1.43724622 -1.07801664 -1.62610314 -1.1230729  -1.06282186\n",
      " -1.15361066 -0.68763741 -1.19318033  1.19899231 -1.22424198 -1.00351806\n",
      " -0.96920882 -1.63793414  0.52930574 -1.83817302 -1.35855851 -1.42058745\n",
      "  0.62713346  0.29727721 -1.41783186 -1.53123961 -1.20416649 -0.63936854\n",
      "  0.60493939  0.74067633 -0.19818355 -0.03098862 -1.5261305   0.24658447\n",
      " -1.80429123 -0.15851339  0.69271217  0.15979387]\n",
      "[-1.70535643e+00 -2.43418848e+00 -2.19131201e+00 -4.85771661e-01\n",
      " -1.31222919e+00  1.58169264e+00  1.44194078e-01 -2.29716044e-01\n",
      "  2.40964631e+00 -1.36159644e+00  2.57971007e-02 -2.87349853e+00\n",
      " -1.38138930e+00 -2.86225584e+00 -1.99818494e+00  6.98389728e-01\n",
      "  1.99619818e+00  2.94550724e+00 -3.27830231e+00 -3.03617615e+00\n",
      " -2.03382687e+00  9.46907649e-01 -1.01418111e+00  1.81032373e+00\n",
      " -1.47864452e+00 -8.94294364e-01 -2.13901944e+00  7.62181008e-01\n",
      " -1.05739777e+00 -1.40652282e+00  1.06580775e+00 -2.87488428e+00\n",
      " -8.15557024e-01 -3.03419937e+00  2.67164401e-01 -3.16183135e-01\n",
      "  7.61051859e-01  1.46484282e-01 -2.03431122e+00  1.50795525e+00\n",
      "  5.94358590e-01 -7.67043898e-01 -1.00562779e+00  1.08603094e+00\n",
      " -2.11713157e+00 -1.42306723e+00 -7.79549558e-01  1.96372742e+00\n",
      " -1.20739945e+00 -2.32196011e+00  1.27087551e+00  7.34077991e-01\n",
      " -1.76090357e+00  5.86815468e-01 -8.16318901e-01 -1.96373843e+00\n",
      " -8.58701604e-01 -4.05719261e+00 -2.00715757e+00  1.92327098e-03\n",
      " -4.96568281e-01 -2.23466667e+00 -5.68756365e-01 -3.34465299e+00\n",
      " -1.31518949e+00 -9.36222145e-01 -2.21642185e+00 -6.14393750e-02\n",
      " -8.26156577e-01  5.40936289e-01 -2.63346876e+00 -7.13249870e-01\n",
      " -9.67015931e-01 -3.06071313e+00 -2.57557127e+00  1.65882350e+00\n",
      " -1.23304510e+00 -1.99460367e+00 -2.18271834e+00  2.03321353e+00\n",
      "  1.65880183e+00 -9.36176921e-02 -2.08358354e+00  2.88239008e+00\n",
      "  5.27257344e-01 -2.98749390e+00 -3.20543519e+00  2.40105668e+00\n",
      " -1.42934548e+00 -1.53145850e+00  3.44980774e-01 -3.02601210e+00\n",
      " -9.30125895e-01 -1.73466743e+00 -2.26739809e+00 -1.25566609e+00\n",
      " -1.95922376e+00 -1.56534777e-01  9.08854327e-01 -7.88268936e-01\n",
      " -1.55675769e+00 -2.10287822e-03 -1.77961567e+00 -8.57399589e-01\n",
      "  1.39187839e+00 -8.62193123e-01 -2.35625528e+00  1.11200491e+00\n",
      " -6.34581490e-01 -4.98903089e-01  1.36919206e+00  1.60050714e+00\n",
      "  2.03386078e+00 -2.99653462e+00 -2.42821529e+00 -2.77365800e+00\n",
      " -7.03471470e-01 -6.42692988e-02  2.39693873e-01  2.76004850e+00\n",
      " -1.62207250e+00 -2.09165602e+00 -1.29548101e+00 -1.78885116e+00\n",
      " -1.65443456e+00 -1.55978960e+00 -2.02583742e-02 -1.67395074e+00\n",
      " -2.10024982e+00  1.34946857e+00 -1.29455871e+00 -2.19995918e+00\n",
      " -1.23641735e+00 -2.50537031e+00  3.41957372e-01 -2.47244446e+00\n",
      " -1.88487364e+00 -2.46204877e+00  3.41069726e-01  3.83912117e+00\n",
      " -2.42126087e+00 -2.81848412e+00 -1.51887558e+00 -6.73524578e-01\n",
      "  4.93111333e-01  9.80880776e-01  6.45274495e-01 -5.32343835e-01\n",
      " -2.14267929e+00 -1.25309513e-01 -2.66851938e+00 -4.89354178e-01\n",
      "  8.70435689e-01  1.13353454e+00]\n"
     ]
    }
   ],
   "source": [
    "print(y_test)\n",
    "print(y_pred_svm)\n",
    "print(y_pred_logistic)"
   ]
  },
  {
   "cell_type": "code",
   "execution_count": 16,
   "metadata": {
    "execution": {
     "iopub.execute_input": "2022-05-08T06:37:06.79261Z",
     "iopub.status.busy": "2022-05-08T06:37:06.792013Z",
     "iopub.status.idle": "2022-05-08T06:37:06.803743Z",
     "shell.execute_reply": "2022-05-08T06:37:06.802807Z",
     "shell.execute_reply.started": "2022-05-08T06:37:06.792564Z"
    }
   },
   "outputs": [
    {
     "name": "stdout",
     "output_type": "stream",
     "text": [
      "0.853318250377074\n",
      "0.8365384615384616\n"
     ]
    }
   ],
   "source": [
    "from sklearn.metrics import roc_curve, auc\n",
    "\n",
    "logistic_fpr, logistic_tpr, threshold = roc_curve(y_test, y_pred_logistic)\n",
    "auc_logistic = auc(logistic_fpr, logistic_tpr)\n",
    "print(auc_logistic)\n",
    "svm_fpr, svm_tpr, threshold = roc_curve(y_test, y_pred_svm)\n",
    "auc_svm = auc(svm_fpr, svm_tpr)\n",
    "print(auc_svm)"
   ]
  },
  {
   "cell_type": "code",
   "execution_count": 17,
   "metadata": {
    "execution": {
     "iopub.execute_input": "2022-05-08T06:13:17.672256Z",
     "iopub.status.busy": "2022-05-08T06:13:17.671587Z",
     "iopub.status.idle": "2022-05-08T06:13:17.893174Z",
     "shell.execute_reply": "2022-05-08T06:13:17.892313Z",
     "shell.execute_reply.started": "2022-05-08T06:13:17.67221Z"
    }
   },
   "outputs": [
    {
     "data": {
      "image/png": "[encoded data removed]",
      "text/plain": [
       "<Figure size 500x500 with 1 Axes>"
      ]
     },
     "metadata": {
      "needs_background": "light"
     },
     "output_type": "display_data"
    }
   ],
   "source": [
    "plt.figure(figsize=(5, 5), dpi=100)\n",
    "plt.plot(svm_fpr, svm_tpr, linestyle='-', label='SVM (auc = %0.3f)' % auc_svm)\n",
    "plt.plot(logistic_fpr, logistic_tpr, marker='.', label='Logistic (auc = %0.3f)' % auc_logistic)\n",
    "\n",
    "plt.xlabel('False Positive Rate -->')\n",
    "plt.ylabel('True Positive Rate -->')\n",
    "\n",
    "plt.legend()\n",
    "\n",
    "plt.show()"
   ]
  },
  {
   "cell_type": "code",
   "execution_count": 18,
   "metadata": {
    "execution": {
     "iopub.execute_input": "2022-05-08T06:13:17.894571Z",
     "iopub.status.busy": "2022-05-08T06:13:17.894354Z",
     "iopub.status.idle": "2022-05-08T06:13:17.899085Z",
     "shell.execute_reply": "2022-05-08T06:13:17.89822Z",
     "shell.execute_reply.started": "2022-05-08T06:13:17.894545Z"
    }
   },
   "outputs": [],
   "source": [
    "#print([logistic_fpr, logistic_tpr, threshold])"
   ]
  },
  {
   "cell_type": "code",
   "execution_count": 19,
   "metadata": {
    "execution": {
     "iopub.execute_input": "2022-05-08T06:13:17.9007Z",
     "iopub.status.busy": "2022-05-08T06:13:17.900485Z",
     "iopub.status.idle": "2022-05-08T06:13:17.910079Z",
     "shell.execute_reply": "2022-05-08T06:13:17.909184Z",
     "shell.execute_reply.started": "2022-05-08T06:13:17.900674Z"
    }
   },
   "outputs": [],
   "source": [
    "#ROC for ANN\n",
    "#https://www.dlology.com/blog/simple-guide-on-how-to-generate-roc-plot-for-keras-classifier/"
   ]
  },
  {
   "cell_type": "code",
   "execution_count": null,
   "metadata": {},
   "outputs": [],
   "source": []
  },
  {
   "cell_type": "code",
   "execution_count": null,
   "metadata": {},
   "outputs": [],
   "source": []
  }
 ],
 "metadata": {
  "kernelspec": {
   "display_name": "Python 3",
   "language": "python",
   "name": "python3"
  },
  "language_info": {
   "codemirror_mode": {
    "name": "ipython",
    "version": 3
   },
   "file_extension": ".py",
   "mimetype": "text/x-python",
   "name": "python",
   "nbconvert_exporter": "python",
   "pygments_lexer": "ipython3",
   "version": "3.8.5"
  }
 },
 "nbformat": 4,
 "nbformat_minor": 4
}
